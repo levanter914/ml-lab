{
 "cells": [
  {
   "cell_type": "code",
   "execution_count": 1,
   "id": "8bc017e5",
   "metadata": {},
   "outputs": [],
   "source": [
    "import pandas as pd"
   ]
  },
  {
   "cell_type": "code",
   "execution_count": 3,
   "id": "035158a8",
   "metadata": {},
   "outputs": [],
   "source": [
    "import pandas as pd\n",
    "\n",
    "def find_s_algorithm(file_path):\n",
    "    data = pd.read_csv(file_path)\n",
    "\n",
    "    print(\"Training data:\")\n",
    "    print(data)\n",
    "\n",
    "    attributes = data.columns[:-1]\n",
    "    class_label = data.columns[-1]\n",
    "\n",
    "    hypothesis = None\n",
    "\n",
    "    for index, row in data.iterrows():\n",
    "        if row[class_label] == 'Yes':\n",
    "            if hypothesis is None:\n",
    "                hypothesis = list(row[attributes])  # Initialize\n",
    "            else:\n",
    "                for i, value in enumerate(row[attributes]):\n",
    "                    if hypothesis[i] != value:\n",
    "                        hypothesis[i] = '?'\n",
    "\n",
    "    return hypothesis\n"
   ]
  },
  {
   "cell_type": "code",
   "execution_count": 4,
   "id": "8f34a789",
   "metadata": {},
   "outputs": [
    {
     "name": "stdout",
     "output_type": "stream",
     "text": [
      "Training data:\n",
      "    Outlook Temperature Humidity  Windy PlayTennis\n",
      "0     Sunny         Hot     High  False         No\n",
      "1     Sunny         Hot     High   True         No\n",
      "2  Overcast         Hot     High  False        Yes\n",
      "3      Rain        Cold     High  False        Yes\n",
      "4      Rain        Cold     High   True         No\n",
      "5  Overcast         Hot     High   True        Yes\n",
      "6     Sunny         Hot     High  False         No\n",
      "\n",
      "The final hypothesis is: ['?', '?', 'High', '?']\n"
     ]
    }
   ],
   "source": [
    "file_path = 'training_data.csv'\n",
    "hypothesis = find_s_algorithm(file_path)\n",
    "print(\"\\nThe final hypothesis is:\", hypothesis)"
   ]
  },
  {
   "cell_type": "code",
   "execution_count": 5,
   "id": "df883d74",
   "metadata": {},
   "outputs": [
    {
     "name": "stdout",
     "output_type": "stream",
     "text": [
      "Training data:\n",
      "  CGPA INTERACTIVENESS PRACTICAL KNOWLEDGE COMMUNICATION SKILLS   \\\n",
      "0  >=9             Yes           EXCELLENT                  FAST   \n",
      "1  >=9             Yes                GOOD                  FAST   \n",
      "2  >=8              No                GOOD                  FAST   \n",
      "3  >=9             Yes                GOOD                  SLOW   \n",
      "\n",
      "  LOGICAL THINKING JOB OFFER  \n",
      "0              Yes       Yes  \n",
      "1              Yes       Yes  \n",
      "2               No        No  \n",
      "3               No       Yes  \n",
      "\n",
      "The final hypothesis is: ['>=9', 'Yes', '?', '?', '?']\n"
     ]
    }
   ],
   "source": [
    "file_path = 'training_data2.csv'\n",
    "hypothesis = find_s_algorithm(file_path)\n",
    "print(\"\\nThe final hypothesis is:\", hypothesis)"
   ]
  }
 ],
 "metadata": {
  "kernelspec": {
   "display_name": "Python 3",
   "language": "python",
   "name": "python3"
  },
  "language_info": {
   "codemirror_mode": {
    "name": "ipython",
    "version": 3
   },
   "file_extension": ".py",
   "mimetype": "text/x-python",
   "name": "python",
   "nbconvert_exporter": "python",
   "pygments_lexer": "ipython3",
   "version": "3.12.10"
  }
 },
 "nbformat": 4,
 "nbformat_minor": 5
}
